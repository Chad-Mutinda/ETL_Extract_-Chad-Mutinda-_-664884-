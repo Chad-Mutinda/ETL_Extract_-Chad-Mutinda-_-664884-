{
 "cells": [
  {
   "cell_type": "code",
   "execution_count": 1,
   "metadata": {},
   "outputs": [],
   "source": [
    "import pandas as pd\n",
    "import numpy as np\n",
    "from datetime import datetime, timedelta\n",
    "import random"
   ]
  },
  {
   "cell_type": "code",
   "execution_count": 2,
   "metadata": {},
   "outputs": [],
   "source": [
    "# Simulate 60 days of data\n",
    "customers = ['Amazon', 'Walmart', 'Target', 'Costco', 'BestBuy', 'eBay']\n",
    "data = []\n",
    "start_date = datetime(2025, 4, 1)\n",
    "for i in range(1, 61):\n",
    "    date = start_date + timedelta(days=i)\n",
    "    for _ in range(random.randint(3, 6)):  # 3–6 sales per day\n",
    "        data.append({\n",
    "            'id': random.randint(1000, 9999),\n",
    "            'customer': random.choice(customers),\n",
    "            'date': date.date().isoformat(),\n",
    "            'amount': random.randint(100, 2000),\n",
    "            'last_updated': (date + timedelta(hours=random.randint(0, 23),\n",
    "                                              minutes=random.randint(0, 59))).isoformat()\n",
    "        })"
   ]
  },
  {
   "cell_type": "code",
   "execution_count": 3,
   "metadata": {},
   "outputs": [
    {
     "data": {
      "text/html": [
       "<div>\n",
       "<style scoped>\n",
       "    .dataframe tbody tr th:only-of-type {\n",
       "        vertical-align: middle;\n",
       "    }\n",
       "\n",
       "    .dataframe tbody tr th {\n",
       "        vertical-align: top;\n",
       "    }\n",
       "\n",
       "    .dataframe thead th {\n",
       "        text-align: right;\n",
       "    }\n",
       "</style>\n",
       "<table border=\"1\" class=\"dataframe\">\n",
       "  <thead>\n",
       "    <tr style=\"text-align: right;\">\n",
       "      <th></th>\n",
       "      <th>id</th>\n",
       "      <th>customer</th>\n",
       "      <th>date</th>\n",
       "      <th>amount</th>\n",
       "      <th>last_updated</th>\n",
       "    </tr>\n",
       "  </thead>\n",
       "  <tbody>\n",
       "    <tr>\n",
       "      <th>0</th>\n",
       "      <td>3353</td>\n",
       "      <td>Amazon</td>\n",
       "      <td>2025-04-02</td>\n",
       "      <td>945</td>\n",
       "      <td>2025-04-02T22:16:00</td>\n",
       "    </tr>\n",
       "    <tr>\n",
       "      <th>1</th>\n",
       "      <td>4869</td>\n",
       "      <td>Amazon</td>\n",
       "      <td>2025-04-02</td>\n",
       "      <td>1311</td>\n",
       "      <td>2025-04-02T14:25:00</td>\n",
       "    </tr>\n",
       "    <tr>\n",
       "      <th>2</th>\n",
       "      <td>6722</td>\n",
       "      <td>eBay</td>\n",
       "      <td>2025-04-02</td>\n",
       "      <td>632</td>\n",
       "      <td>2025-04-02T18:09:00</td>\n",
       "    </tr>\n",
       "    <tr>\n",
       "      <th>3</th>\n",
       "      <td>9443</td>\n",
       "      <td>Walmart</td>\n",
       "      <td>2025-04-03</td>\n",
       "      <td>587</td>\n",
       "      <td>2025-04-03T23:53:00</td>\n",
       "    </tr>\n",
       "    <tr>\n",
       "      <th>4</th>\n",
       "      <td>8837</td>\n",
       "      <td>BestBuy</td>\n",
       "      <td>2025-04-03</td>\n",
       "      <td>1919</td>\n",
       "      <td>2025-04-03T08:40:00</td>\n",
       "    </tr>\n",
       "  </tbody>\n",
       "</table>\n",
       "</div>"
      ],
      "text/plain": [
       "     id customer        date  amount         last_updated\n",
       "0  3353   Amazon  2025-04-02     945  2025-04-02T22:16:00\n",
       "1  4869   Amazon  2025-04-02    1311  2025-04-02T14:25:00\n",
       "2  6722     eBay  2025-04-02     632  2025-04-02T18:09:00\n",
       "3  9443  Walmart  2025-04-03     587  2025-04-03T23:53:00\n",
       "4  8837  BestBuy  2025-04-03    1919  2025-04-03T08:40:00"
      ]
     },
     "execution_count": 3,
     "metadata": {},
     "output_type": "execute_result"
    }
   ],
   "source": [
    "df = pd.DataFrame(data)\n",
    "df.to_csv('sales_data_large.csv', index=False)\n",
    "df.head()"
   ]
  },
  {
   "cell_type": "code",
   "execution_count": 4,
   "metadata": {},
   "outputs": [
    {
     "name": "stdout",
     "output_type": "stream",
     "text": [
      "Pulled 270 rows via full extraction.\n"
     ]
    },
    {
     "data": {
      "text/html": [
       "<div>\n",
       "<style scoped>\n",
       "    .dataframe tbody tr th:only-of-type {\n",
       "        vertical-align: middle;\n",
       "    }\n",
       "\n",
       "    .dataframe tbody tr th {\n",
       "        vertical-align: top;\n",
       "    }\n",
       "\n",
       "    .dataframe thead th {\n",
       "        text-align: right;\n",
       "    }\n",
       "</style>\n",
       "<table border=\"1\" class=\"dataframe\">\n",
       "  <thead>\n",
       "    <tr style=\"text-align: right;\">\n",
       "      <th></th>\n",
       "      <th>id</th>\n",
       "      <th>customer</th>\n",
       "      <th>date</th>\n",
       "      <th>amount</th>\n",
       "      <th>last_updated</th>\n",
       "    </tr>\n",
       "  </thead>\n",
       "  <tbody>\n",
       "    <tr>\n",
       "      <th>0</th>\n",
       "      <td>3353</td>\n",
       "      <td>Amazon</td>\n",
       "      <td>2025-04-02</td>\n",
       "      <td>945</td>\n",
       "      <td>2025-04-02 22:16:00</td>\n",
       "    </tr>\n",
       "    <tr>\n",
       "      <th>1</th>\n",
       "      <td>4869</td>\n",
       "      <td>Amazon</td>\n",
       "      <td>2025-04-02</td>\n",
       "      <td>1311</td>\n",
       "      <td>2025-04-02 14:25:00</td>\n",
       "    </tr>\n",
       "    <tr>\n",
       "      <th>2</th>\n",
       "      <td>6722</td>\n",
       "      <td>eBay</td>\n",
       "      <td>2025-04-02</td>\n",
       "      <td>632</td>\n",
       "      <td>2025-04-02 18:09:00</td>\n",
       "    </tr>\n",
       "    <tr>\n",
       "      <th>3</th>\n",
       "      <td>9443</td>\n",
       "      <td>Walmart</td>\n",
       "      <td>2025-04-03</td>\n",
       "      <td>587</td>\n",
       "      <td>2025-04-03 23:53:00</td>\n",
       "    </tr>\n",
       "    <tr>\n",
       "      <th>4</th>\n",
       "      <td>8837</td>\n",
       "      <td>BestBuy</td>\n",
       "      <td>2025-04-03</td>\n",
       "      <td>1919</td>\n",
       "      <td>2025-04-03 08:40:00</td>\n",
       "    </tr>\n",
       "  </tbody>\n",
       "</table>\n",
       "</div>"
      ],
      "text/plain": [
       "     id customer        date  amount        last_updated\n",
       "0  3353   Amazon  2025-04-02     945 2025-04-02 22:16:00\n",
       "1  4869   Amazon  2025-04-02    1311 2025-04-02 14:25:00\n",
       "2  6722     eBay  2025-04-02     632 2025-04-02 18:09:00\n",
       "3  9443  Walmart  2025-04-03     587 2025-04-03 23:53:00\n",
       "4  8837  BestBuy  2025-04-03    1919 2025-04-03 08:40:00"
      ]
     },
     "execution_count": 4,
     "metadata": {},
     "output_type": "execute_result"
    }
   ],
   "source": [
    "# FULL EXTRACTION\n",
    "df_full = pd.read_csv(\"sales_data_large.csv\", parse_dates=[\"last_updated\"])\n",
    "print(f\"Pulled {len(df_full)} rows via full extraction.\")\n",
    "df_full.head()"
   ]
  },
  {
   "cell_type": "code",
   "execution_count": 5,
   "metadata": {},
   "outputs": [],
   "source": [
    "# Set initial last extraction time (e.g., halfway through the data range)\n",
    "with open(\"last_extraction.txt\", \"w\") as f:\n",
    "    f.write(\"2025-04-20 12:00:00\") "
   ]
  },
  {
   "cell_type": "code",
   "execution_count": 6,
   "metadata": {},
   "outputs": [
    {
     "name": "stdout",
     "output_type": "stream",
     "text": [
      "Pulled 190 new/updated rows since 2025-04-20 12:00:00.\n"
     ]
    },
    {
     "data": {
      "text/html": [
       "<div>\n",
       "<style scoped>\n",
       "    .dataframe tbody tr th:only-of-type {\n",
       "        vertical-align: middle;\n",
       "    }\n",
       "\n",
       "    .dataframe tbody tr th {\n",
       "        vertical-align: top;\n",
       "    }\n",
       "\n",
       "    .dataframe thead th {\n",
       "        text-align: right;\n",
       "    }\n",
       "</style>\n",
       "<table border=\"1\" class=\"dataframe\">\n",
       "  <thead>\n",
       "    <tr style=\"text-align: right;\">\n",
       "      <th></th>\n",
       "      <th>id</th>\n",
       "      <th>customer</th>\n",
       "      <th>date</th>\n",
       "      <th>amount</th>\n",
       "      <th>last_updated</th>\n",
       "    </tr>\n",
       "  </thead>\n",
       "  <tbody>\n",
       "    <tr>\n",
       "      <th>77</th>\n",
       "      <td>5065</td>\n",
       "      <td>Amazon</td>\n",
       "      <td>2025-04-20</td>\n",
       "      <td>292</td>\n",
       "      <td>2025-04-20 20:15:00</td>\n",
       "    </tr>\n",
       "    <tr>\n",
       "      <th>78</th>\n",
       "      <td>7686</td>\n",
       "      <td>Amazon</td>\n",
       "      <td>2025-04-20</td>\n",
       "      <td>1713</td>\n",
       "      <td>2025-04-20 12:10:00</td>\n",
       "    </tr>\n",
       "    <tr>\n",
       "      <th>81</th>\n",
       "      <td>2322</td>\n",
       "      <td>Target</td>\n",
       "      <td>2025-04-20</td>\n",
       "      <td>1737</td>\n",
       "      <td>2025-04-20 22:23:00</td>\n",
       "    </tr>\n",
       "    <tr>\n",
       "      <th>83</th>\n",
       "      <td>6527</td>\n",
       "      <td>eBay</td>\n",
       "      <td>2025-04-21</td>\n",
       "      <td>1259</td>\n",
       "      <td>2025-04-21 20:52:00</td>\n",
       "    </tr>\n",
       "    <tr>\n",
       "      <th>84</th>\n",
       "      <td>5201</td>\n",
       "      <td>Walmart</td>\n",
       "      <td>2025-04-21</td>\n",
       "      <td>767</td>\n",
       "      <td>2025-04-21 21:29:00</td>\n",
       "    </tr>\n",
       "  </tbody>\n",
       "</table>\n",
       "</div>"
      ],
      "text/plain": [
       "      id customer        date  amount        last_updated\n",
       "77  5065   Amazon  2025-04-20     292 2025-04-20 20:15:00\n",
       "78  7686   Amazon  2025-04-20    1713 2025-04-20 12:10:00\n",
       "81  2322   Target  2025-04-20    1737 2025-04-20 22:23:00\n",
       "83  6527     eBay  2025-04-21    1259 2025-04-21 20:52:00\n",
       "84  5201  Walmart  2025-04-21     767 2025-04-21 21:29:00"
      ]
     },
     "execution_count": 6,
     "metadata": {},
     "output_type": "execute_result"
    }
   ],
   "source": [
    "# INCREMENTAL EXTRACTION\n",
    "with open(\"last_extraction.txt\", \"r\") as f:\n",
    "    last_extraction = f.read().strip()\n",
    "df = pd.read_csv(\"sales_data_large.csv\", parse_dates=[\"last_updated\"])\n",
    "last_extraction_time = pd.to_datetime(last_extraction)\n",
    "df_incremental = df[df['last_updated'] > last_extraction_time]\n",
    "print(f\"Pulled {len(df_incremental)} new/updated rows since {last_extraction}.\")\n",
    "df_incremental.head()"
   ]
  },
  {
   "cell_type": "code",
   "execution_count": 7,
   "metadata": {},
   "outputs": [],
   "source": [
    "# Get the most recent update\n",
    "new_checkpoint = df['last_updated'].max()"
   ]
  },
  {
   "cell_type": "code",
   "execution_count": 8,
   "metadata": {},
   "outputs": [],
   "source": [
    "# Save it\n",
    "with open(\"last_extraction.txt\", \"w\") as f:\n",
    "    f.write(new_checkpoint.isoformat())"
   ]
  },
  {
   "cell_type": "code",
   "execution_count": 9,
   "metadata": {},
   "outputs": [
    {
     "name": "stdout",
     "output_type": "stream",
     "text": [
      "Updated last_extraction.txt to 2025-05-31 18:35:00\n"
     ]
    }
   ],
   "source": [
    "print(f\"Updated last_extraction.txt to {new_checkpoint}\")"
   ]
  }
 ],
 "metadata": {
  "kernelspec": {
   "display_name": "Python 3",
   "language": "python",
   "name": "python3"
  },
  "language_info": {
   "codemirror_mode": {
    "name": "ipython",
    "version": 3
   },
   "file_extension": ".py",
   "mimetype": "text/x-python",
   "name": "python",
   "nbconvert_exporter": "python",
   "pygments_lexer": "ipython3",
   "version": "3.8.8"
  }
 },
 "nbformat": 4,
 "nbformat_minor": 2
}
